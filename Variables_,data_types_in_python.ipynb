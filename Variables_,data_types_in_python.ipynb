{
  "nbformat": 4,
  "nbformat_minor": 0,
  "metadata": {
    "colab": {
      "name": "Variables ,data types in python.ipynb",
      "provenance": [],
      "authorship_tag": "ABX9TyP5Q9hZ4Yy0Z+fvVeMAfl5O",
      "include_colab_link": true
    },
    "kernelspec": {
      "name": "python3",
      "display_name": "Python 3"
    },
    "language_info": {
      "name": "python"
    }
  },
  "cells": [
    {
      "cell_type": "markdown",
      "metadata": {
        "id": "view-in-github",
        "colab_type": "text"
      },
      "source": [
        "<a href=\"https://colab.research.google.com/github/samyumobi/A-Complete-Python-Guide-For-Beginners/blob/master/Variables_%2Cdata_types_in_python.ipynb\" target=\"_parent\"><img src=\"https://colab.research.google.com/assets/colab-badge.svg\" alt=\"Open In Colab\"/></a>"
      ]
    },
    {
      "cell_type": "code",
      "metadata": {
        "id": "ZBEJbAIf612C"
      },
      "source": [
        "a = 10\n",
        "b = 5 \n",
        "c = \"ML\""
      ],
      "execution_count": 2,
      "outputs": []
    },
    {
      "cell_type": "code",
      "metadata": {
        "id": "h6khDtV77Uaf"
      },
      "source": [
        "a, b , c = 5, 10, \"ML\""
      ],
      "execution_count": 3,
      "outputs": []
    },
    {
      "cell_type": "code",
      "metadata": {
        "id": "KzrFgfp37nMp"
      },
      "source": [
        "a = b = c = \"AI\""
      ],
      "execution_count": 4,
      "outputs": []
    },
    {
      "cell_type": "code",
      "metadata": {
        "colab": {
          "base_uri": "https://localhost:8080/"
        },
        "id": "3ADm4mPN8PsX",
        "outputId": "2d08f486-fbce-46ef-dafe-d74bf03c81d3"
      },
      "source": [
        "#Datatypes\n",
        "a= 7 \n",
        "b = 6.5\n",
        "c = \"True\"\n",
        "d = False\n",
        "e = 1+2j\n",
        "print(type(d))"
      ],
      "execution_count": 14,
      "outputs": [
        {
          "output_type": "stream",
          "text": [
            "<class 'bool'>\n"
          ],
          "name": "stdout"
        }
      ]
    },
    {
      "cell_type": "code",
      "metadata": {
        "colab": {
          "base_uri": "https://localhost:8080/",
          "height": 35
        },
        "id": "Yyck1lQZ82se",
        "outputId": "ebe36582-8d74-41c8-c6af-41991499bf32"
      },
      "source": [
        "#Strings in python\n",
        "s = \"I am an architect\"\n",
        "s[0]\n",
        "s[8:]"
      ],
      "execution_count": 16,
      "outputs": [
        {
          "output_type": "execute_result",
          "data": {
            "application/vnd.google.colaboratory.intrinsic+json": {
              "type": "string"
            },
            "text/plain": [
              "'architect'"
            ]
          },
          "metadata": {
            "tags": []
          },
          "execution_count": 16
        }
      ]
    },
    {
      "cell_type": "code",
      "metadata": {
        "colab": {
          "base_uri": "https://localhost:8080/"
        },
        "id": "SK6RmAqk9U3q",
        "outputId": "640bf25a-26bf-42c8-802c-201aef44f332"
      },
      "source": [
        "## Datatypes\n",
        "s = [8,9,6.5,\"Shakal\",True]\n",
        "print(s)\n",
        "s[:2]"
      ],
      "execution_count": 22,
      "outputs": [
        {
          "output_type": "stream",
          "text": [
            "[8, 9, 6.5, 'Shakal', True]\n"
          ],
          "name": "stdout"
        },
        {
          "output_type": "execute_result",
          "data": {
            "text/plain": [
              "[8, 9]"
            ]
          },
          "metadata": {
            "tags": []
          },
          "execution_count": 22
        }
      ]
    },
    {
      "cell_type": "code",
      "metadata": {
        "colab": {
          "base_uri": "https://localhost:8080/"
        },
        "id": "IjzmJ_5w-DC9",
        "outputId": "1baf3811-3068-4313-a826-7026aad43770"
      },
      "source": [
        "s[2] = \"Red\"\n",
        "s"
      ],
      "execution_count": 24,
      "outputs": [
        {
          "output_type": "execute_result",
          "data": {
            "text/plain": [
              "[8, 9, 'Red', 'Shakal', True]"
            ]
          },
          "metadata": {
            "tags": []
          },
          "execution_count": 24
        }
      ]
    },
    {
      "cell_type": "markdown",
      "metadata": {
        "id": "wztq5K-o-Kgp"
      },
      "source": [
        "## List \n",
        "Lists can have different datatypes and are mutable. List can have different operations like append slicing deleting adding inserting etc"
      ]
    },
    {
      "cell_type": "code",
      "metadata": {
        "colab": {
          "base_uri": "https://localhost:8080/",
          "height": 201
        },
        "id": "ont8Pou3-Xvq",
        "outputId": "84957852-28e8-4ab7-dd47-e430debfeaf1"
      },
      "source": [
        "r = (2,2,\"Shanthi\",False)\n",
        "r[2]\n",
        "r[3] = True"
      ],
      "execution_count": 27,
      "outputs": [
        {
          "output_type": "error",
          "ename": "TypeError",
          "evalue": "ignored",
          "traceback": [
            "\u001b[0;31m---------------------------------------------------------------------------\u001b[0m",
            "\u001b[0;31mTypeError\u001b[0m                                 Traceback (most recent call last)",
            "\u001b[0;32m<ipython-input-27-f82392daac6f>\u001b[0m in \u001b[0;36m<module>\u001b[0;34m()\u001b[0m\n\u001b[1;32m      1\u001b[0m \u001b[0mr\u001b[0m \u001b[0;34m=\u001b[0m \u001b[0;34m(\u001b[0m\u001b[0;36m2\u001b[0m\u001b[0;34m,\u001b[0m\u001b[0;36m2\u001b[0m\u001b[0;34m,\u001b[0m\u001b[0;34m\"Shanthi\"\u001b[0m\u001b[0;34m,\u001b[0m\u001b[0;32mFalse\u001b[0m\u001b[0;34m)\u001b[0m\u001b[0;34m\u001b[0m\u001b[0;34m\u001b[0m\u001b[0m\n\u001b[1;32m      2\u001b[0m \u001b[0mr\u001b[0m\u001b[0;34m[\u001b[0m\u001b[0;36m2\u001b[0m\u001b[0;34m]\u001b[0m\u001b[0;34m\u001b[0m\u001b[0;34m\u001b[0m\u001b[0m\n\u001b[0;32m----> 3\u001b[0;31m \u001b[0mr\u001b[0m\u001b[0;34m[\u001b[0m\u001b[0;36m3\u001b[0m\u001b[0;34m]\u001b[0m \u001b[0;34m=\u001b[0m \u001b[0;32mTrue\u001b[0m\u001b[0;34m\u001b[0m\u001b[0;34m\u001b[0m\u001b[0m\n\u001b[0m",
            "\u001b[0;31mTypeError\u001b[0m: 'tuple' object does not support item assignment"
          ]
        }
      ]
    },
    {
      "cell_type": "markdown",
      "metadata": {
        "id": "kmmyDQ8t-yym"
      },
      "source": [
        "## Tuple\n",
        "\n",
        "Tuple can have duplicate elements, ordered elements\n",
        "Difference between list and tuple is tuple cant be changed. Tuples are immutable "
      ]
    },
    {
      "cell_type": "code",
      "metadata": {
        "colab": {
          "base_uri": "https://localhost:8080/"
        },
        "id": "ezfGEDAu_S_Z",
        "outputId": "ac40d01c-8940-4d34-98b3-03b3989260b2"
      },
      "source": [
        "f = {6,7,\"Red\",True}\n",
        "f\n",
        "type(f)\n",
        "print(list(f))"
      ],
      "execution_count": 33,
      "outputs": [
        {
          "output_type": "stream",
          "text": [
            "['Red', True, 6, 7]\n"
          ],
          "name": "stdout"
        }
      ]
    },
    {
      "cell_type": "markdown",
      "metadata": {
        "id": "FMiC45xC_x_M"
      },
      "source": [
        "## Set\n",
        "Set has {} is unordered collection of elements .Cant access with [] and and flexible."
      ]
    },
    {
      "cell_type": "code",
      "metadata": {
        "colab": {
          "base_uri": "https://localhost:8080/"
        },
        "id": "QbxKaxW8A7cu",
        "outputId": "330599de-df73-4847-8626-8cb6fc542c88"
      },
      "source": [
        "e = {'a':1,'b':2,'c':3}\n",
        "print(e)\n",
        "type(e)\n",
        "e.keys()\n",
        "e.values()"
      ],
      "execution_count": 38,
      "outputs": [
        {
          "output_type": "stream",
          "text": [
            "{'a': 1, 'b': 2, 'c': 3}\n"
          ],
          "name": "stdout"
        },
        {
          "output_type": "execute_result",
          "data": {
            "text/plain": [
              "dict_values([1, 2, 3])"
            ]
          },
          "metadata": {
            "tags": []
          },
          "execution_count": 38
        }
      ]
    },
    {
      "cell_type": "markdown",
      "metadata": {
        "id": "4jNAtSdTBar1"
      },
      "source": [
        "## dictionary\n",
        "Un ordered pair of dictionary key , value pairs"
      ]
    },
    {
      "cell_type": "code",
      "metadata": {
        "colab": {
          "base_uri": "https://localhost:8080/"
        },
        "id": "TSo412V8CBmh",
        "outputId": "68ca2d48-7b63-4192-f8d1-3837907b4571"
      },
      "source": [
        "print(str(3)\n",
        ",str(3.8)\n",
        ",int(9.34)\n",
        ",str(345))"
      ],
      "execution_count": 41,
      "outputs": [
        {
          "output_type": "stream",
          "text": [
            "3 3.8 9 345\n"
          ],
          "name": "stdout"
        }
      ]
    },
    {
      "cell_type": "markdown",
      "metadata": {
        "id": "7PsbdiEBDk4p"
      },
      "source": [
        "## Datatype conversion"
      ]
    },
    {
      "cell_type": "code",
      "metadata": {
        "colab": {
          "base_uri": "https://localhost:8080/"
        },
        "id": "Jvz_lyfKDpOR",
        "outputId": "d0d90eba-b4c5-45f6-fea1-d16cb2663cbd"
      },
      "source": [
        "a = [5,4,3,25,6,222,22,22,2222,356]\n",
        "print(type(a), set(a))"
      ],
      "execution_count": 43,
      "outputs": [
        {
          "output_type": "stream",
          "text": [
            "<class 'list'> {3, 4, 5, 6, 356, 2222, 22, 25, 222}\n"
          ],
          "name": "stdout"
        }
      ]
    },
    {
      "cell_type": "code",
      "metadata": {
        "colab": {
          "base_uri": "https://localhost:8080/"
        },
        "id": "te6EvXWzBZTm",
        "outputId": "b5fc52d6-e52b-424f-d90e-879b10deb72a"
      },
      "source": [
        "a = \"Alvin\"\n",
        "b = 6\n",
        "print(a+\" passed with\",b,\"marks\")"
      ],
      "execution_count": 47,
      "outputs": [
        {
          "output_type": "stream",
          "text": [
            "Alvin passed with 6 marks\n"
          ],
          "name": "stdout"
        }
      ]
    },
    {
      "cell_type": "code",
      "metadata": {
        "colab": {
          "base_uri": "https://localhost:8080/"
        },
        "id": "zVsIZwdREP-6",
        "outputId": "4810e279-e132-47a1-8227-63e107ae4fb4"
      },
      "source": [
        "list(\"Janvi\")"
      ],
      "execution_count": 48,
      "outputs": [
        {
          "output_type": "execute_result",
          "data": {
            "text/plain": [
              "['J', 'a', 'n', 'v', 'i']"
            ]
          },
          "metadata": {
            "tags": []
          },
          "execution_count": 48
        }
      ]
    },
    {
      "cell_type": "markdown",
      "metadata": {
        "id": "Y47aZhAUFOyL"
      },
      "source": [
        "## Print i/p and o/p"
      ]
    },
    {
      "cell_type": "code",
      "metadata": {
        "colab": {
          "base_uri": "https://localhost:8080/"
        },
        "id": "J4qAbNZjFTiO",
        "outputId": "ac142cf8-6f08-46f3-8e8e-af32db7336e3"
      },
      "source": [
        "print('Sam')"
      ],
      "execution_count": 49,
      "outputs": [
        {
          "output_type": "stream",
          "text": [
            "Sam\n"
          ],
          "name": "stdout"
        }
      ]
    },
    {
      "cell_type": "code",
      "metadata": {
        "colab": {
          "base_uri": "https://localhost:8080/"
        },
        "id": "Ip9rD16aFu5Y",
        "outputId": "d2066d0a-b07f-4ef1-ae40-d5d618dac558"
      },
      "source": [
        "a = 10\n",
        "print('Sam won '+str(a))\n"
      ],
      "execution_count": 53,
      "outputs": [
        {
          "output_type": "stream",
          "text": [
            "Sam won 10\n"
          ],
          "name": "stdout"
        }
      ]
    },
    {
      "cell_type": "markdown",
      "metadata": {
        "id": "OTruEetGGB3J"
      },
      "source": [
        "##** Printing** in python"
      ]
    },
    {
      "cell_type": "code",
      "metadata": {
        "colab": {
          "base_uri": "https://localhost:8080/"
        },
        "id": "XAZULIvdGMP_",
        "outputId": "0ac90b5a-8f1b-4869-9c50-9e45720604a8"
      },
      "source": [
        "a = 10;b = 30; c = True\n",
        "print(\"a {} b {} c {}\".format(a,b,c))"
      ],
      "execution_count": 55,
      "outputs": [
        {
          "output_type": "stream",
          "text": [
            "a 10 b 30 c True\n"
          ],
          "name": "stdout"
        }
      ]
    },
    {
      "cell_type": "code",
      "metadata": {
        "colab": {
          "base_uri": "https://localhost:8080/"
        },
        "id": "CLY3ushDGcJo",
        "outputId": "cb281749-bb05-4f60-c203-c9a64f4b0553"
      },
      "source": [
        "print(\"a {0} b {1} , a {1} b {0}\".format(a,b))"
      ],
      "execution_count": 57,
      "outputs": [
        {
          "output_type": "stream",
          "text": [
            "a 10 b 30 , a 30 b 10\n"
          ],
          "name": "stdout"
        }
      ]
    },
    {
      "cell_type": "code",
      "metadata": {
        "colab": {
          "base_uri": "https://localhost:8080/"
        },
        "id": "M9Q9byUjHta6",
        "outputId": "40f93bb6-2929-4cf4-80bd-cfcfd981d123"
      },
      "source": [
        "print(\"A is {} B is {}\".format(\"Raj\",True))"
      ],
      "execution_count": 60,
      "outputs": [
        {
          "output_type": "stream",
          "text": [
            "A is Raj B is True\n"
          ],
          "name": "stdout"
        }
      ]
    },
    {
      "cell_type": "markdown",
      "metadata": {
        "id": "VLkmp5tnIZIk"
      },
      "source": [
        "## Input "
      ]
    },
    {
      "cell_type": "code",
      "metadata": {
        "colab": {
          "base_uri": "https://localhost:8080/"
        },
        "id": "T-8ARQVcIXu_",
        "outputId": "8d2df58f-812e-410b-a6f9-f2eafb6e5fb5"
      },
      "source": [
        "print(input())"
      ],
      "execution_count": 63,
      "outputs": [
        {
          "output_type": "stream",
          "text": [
            "Raj\n",
            "Raj\n"
          ],
          "name": "stdout"
        }
      ]
    }
  ]
}